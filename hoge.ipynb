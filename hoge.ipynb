{
 "cells": [
  {
   "cell_type": "code",
   "execution_count": 2,
   "metadata": {},
   "outputs": [],
   "source": [
    "from pathlib import Path\n",
    "import os\n",
    "img_dir='/srv/datasets/FoodLog/Cookpad+/meal'"
   ]
  },
  {
   "cell_type": "code",
   "execution_count": 4,
   "metadata": {},
   "outputs": [
    {
     "data": {
      "text/plain": [
       "['/srv/datasets/FoodLog/Cookpad+/meal/0',\n",
       " '/srv/datasets/FoodLog/Cookpad+/meal/1',\n",
       " '/srv/datasets/FoodLog/Cookpad+/meal/2',\n",
       " '/srv/datasets/FoodLog/Cookpad+/meal/3',\n",
       " '/srv/datasets/FoodLog/Cookpad+/meal/4',\n",
       " '/srv/datasets/FoodLog/Cookpad+/meal/5',\n",
       " '/srv/datasets/FoodLog/Cookpad+/meal/6',\n",
       " '/srv/datasets/FoodLog/Cookpad+/meal/7',\n",
       " '/srv/datasets/FoodLog/Cookpad+/meal/8',\n",
       " '/srv/datasets/FoodLog/Cookpad+/meal/9',\n",
       " '/srv/datasets/FoodLog/Cookpad+/meal/a',\n",
       " '/srv/datasets/FoodLog/Cookpad+/meal/b',\n",
       " '/srv/datasets/FoodLog/Cookpad+/meal/c',\n",
       " '/srv/datasets/FoodLog/Cookpad+/meal/d',\n",
       " '/srv/datasets/FoodLog/Cookpad+/meal/e',\n",
       " '/srv/datasets/FoodLog/Cookpad+/meal/f']"
      ]
     },
     "execution_count": 4,
     "metadata": {},
     "output_type": "execute_result"
    }
   ],
   "source": [
    "subdir = [f.path for f in os.scandir(img_dir) if f.is_dir()]\n",
    "subdir"
   ]
  },
  {
   "cell_type": "code",
   "execution_count": 7,
   "metadata": {},
   "outputs": [],
   "source": [
    "train_f = open('splits/cookpad/train.txt','w')\n",
    "valid_f = open('splits/cookpad/valid.txt','w')\n",
    "test_f = open('splits/cookpad/test.txt','w')\n",
    "count = 0\n",
    "for dir in subdir:\n",
    "    for path in os.listdir(dir):\n",
    "        split_path = os.path.join(dir.split('/')[-1],path)\n",
    "        if count % 10 < 8:\n",
    "            print(split_path,file=train_f)\n",
    "        elif count % 10 < 9:\n",
    "            print(split_path,file=valid_f)\n",
    "        else:\n",
    "            print(split_path,file=test_f)\n",
    "        count += 1\n",
    "train_f.close()\n",
    "valid_f.close()\n",
    "test_f.close()"
   ]
  },
  {
   "cell_type": "code",
   "execution_count": 3,
   "metadata": {},
   "outputs": [
    {
     "name": "stdout",
     "output_type": "stream",
     "text": [
      "{'': '0', 'food_item': '7148', 'Name': 'りんご\\u3000皮なし\\u3000生', 'Ingr_Exp': 'りんご紅玉', 'Ingr': '7148', 'Amnt_Exp': '２～３個', 'Amnt': '2.5', 'Unit': '無単位', 'Weight': '0.24', 'TMR (g)': '0.91', 'REFUSE': '0.036', 'ENERC': '0.5399999999999999', 'ENERC_KCAL': '0.12719999999999998', 'WATER': '0.20183999999999996', 'PROTCAA': '0.00023999999999999998', 'PROT-': '0.00023999999999999998', 'FATNLEA': '0.0', 'CHOLE': '0.0', 'FAT-': '0.00047999999999999996', 'CHOAVLM': '0.029759999999999998', 'CHOAVL': '0.029279999999999997', 'CHOAVLDF-': '0.0312', 'FIB-': '0.0033599999999999997', 'POLYL': '0.0016799999999999999', 'CHOCDF-': '0.0372', 'OA': '0.0012', 'ASH': '0.00047999999999999996', 'NA': '0.0', 'K': '0.288', 'CA': '0.0072', 'MG': '0.0072', 'P': '0.0288', 'FE': '0.00023999999999999998', 'ZN': '0.0', 'CU': '0.00011999999999999999', 'MN': '4.7999999999999994e-05', 'ID': '0.0', 'SE': '0.0', 'CR': '0.0024', 'MO': '0.0', 'RETOL': '0.0', 'CARTA': '0.0', 'CARTB': '0.0288', 'CRYPXB': '0.0168', 'CARTBEQ': '0.036', 'VITA_RAE': '0.0024', 'VITD': '0.0', 'TOCPHA': '0.00023999999999999998', 'TOCPHB': '0.0', 'TOCPHG': '0.0', 'TOCPHD': '0.0', 'VITK ': '0.0', 'THIA': '4.7999999999999994e-05', 'RIBF': '0.0', 'NIA': '0.00023999999999999998', 'NE': '0.00023999999999999998', 'VITB6A': '9.599999999999999e-05', 'VITB12': '0.0', 'FOL': '0.0048', 'PANTAC': '7.199999999999999e-05', 'BIOT': '0.0012', 'VITC': '0.0096', 'ALC': '', 'NACL_EQ': '0.0'}\n",
      "{'': '1', 'food_item': '16020', 'Name': '＜アルコール飲料類＞\\u3000（蒸留酒類）\\u3000ラム', 'Ingr_Exp': 'ラム酒', 'Ingr': '16020', 'Amnt_Exp': '適量', 'Amnt': '1', 'Unit': '無単位', 'Weight': '0.1', 'TMR (g)': '1.0', 'REFUSE': '0.0', 'ENERC': '0.982', 'ENERC_KCAL': '0.23700000000000002', 'WATER': '0.06609999999999999', 'PROTCAA': '', 'PROT-': '0.0', 'FATNLEA': '', 'CHOLE': '0.0', 'FAT-': '0.0', 'CHOAVLM': '', 'CHOAVL': '', 'CHOAVLDF-': '0.0001', 'FIB-': '0.0', 'POLYL': '', 'CHOCDF-': '0.0001', 'OA': '', 'ASH': '0.0', 'NA': '0.003', 'K': '0.0', 'CA': '0.0', 'MG': '0.0', 'P': '0.0', 'FE': '0.0', 'ZN': '0.0', 'CU': '0.0', 'MN': '0.0', 'ID': '', 'SE': '', 'CR': '', 'MO': '', 'RETOL': '0.0', 'CARTA': '', 'CARTB': '', 'CRYPXB': '', 'CARTBEQ': '0.0', 'VITA_RAE': '0.0', 'VITD': '0.0', 'TOCPHA': '', 'TOCPHB': '', 'TOCPHG': '', 'TOCPHD': '', 'VITK ': '0.0', 'THIA': '0.0', 'RIBF': '0.0', 'NIA': '0.0', 'NE': '0.0', 'VITB6A': '0.0', 'VITB12': '0.0', 'FOL': '0.0', 'PANTAC': '0.0', 'BIOT': '', 'VITC': '0.0', 'ALC': '0.0338', 'NACL_EQ': '0.0'}\n",
      "{'': '2', 'food_item': '10263', 'Name': '＜魚類＞\\u3000（まぐろ類）\\u3000缶詰\\u3000油漬\\u3000フレーク\\u3000ライト', 'Ingr_Exp': '台', 'Ingr': '10263', 'Amnt_Exp': '', 'Amnt': '1', 'Unit': '無単位', 'Weight': '0.1', 'TMR (g)': '0.12', 'REFUSE': '0.0', 'ENERC': '1.098', 'ENERC_KCAL': '0.265', 'WATER': '0.0591', 'PROTCAA': '0.014400000000000001', 'PROT-': '0.0177', 'FATNLEA': '0.0213', 'CHOLE': '0.032', 'FAT-': '0.0217', 'CHOAVLM': '0.0001', 'CHOAVL': '0.0001', 'CHOAVLDF-': '0.0038', 'FIB-': '0.0', 'POLYL': '', 'CHOCDF-': '0.0001', 'OA': '', 'ASH': '0.0014', 'NA': '0.34', 'K': '0.23', 'CA': '0.004', 'MG': '0.025', 'P': '0.16', 'FE': '0.0005', 'ZN': '0.0003', 'CU': '4e-05', 'MN': '1e-05', 'ID': '', 'SE': '', 'CR': '', 'MO': '', 'RETOL': '0.008', 'CARTA': '0.0', 'CARTB': '0.0', 'CRYPXB': '', 'CARTBEQ': '0.0', 'VITA_RAE': '0.008', 'VITD': '0.002', 'TOCPHA': '0.0028', 'TOCPHB': '0.0004', 'TOCPHG': '0.017', 'TOCPHD': '0.0060999999999999995', 'VITK ': '0.044', 'THIA': '1e-05', 'RIBF': '3e-05', 'NIA': '0.0088', 'NE': '0.012', 'VITB6A': '0.00026000000000000003', 'VITB12': '0.0011', 'FOL': '0.003', 'PANTAC': '8.999999999999999e-05', 'BIOT': '', 'VITC': '0.0', 'ALC': '', 'NACL_EQ': '0.0009000000000000001'}\n",
      "{'': '3', 'food_item': '1015', 'Name': 'こむぎ\\u3000［小麦粉］\\u3000薄力粉\\u30001等', 'Ingr_Exp': '小麦粉', 'Ingr': '1015', 'Amnt_Exp': '１００ｇ', 'Amnt': '100.0', 'Unit': '無単位', 'Weight': '9.52', 'TMR (g)': '26.66', 'REFUSE': '0.0', 'ENERC': '141.372', 'ENERC_KCAL': '33.2248', 'WATER': '1.3328000000000002', 'PROTCAA': '0.73304', 'PROT-': '0.7901600000000001', 'FATNLEA': '0.12376000000000001', 'CHOLE': '0.0', 'FAT-': '0.1428', 'CHOAVLM': '7.64456', 'CHOAVL': '6.9591199999999995', 'CHOAVLDF-': '7.05432', 'FIB-': '0.23800000000000002', 'POLYL': '', 'CHOCDF-': '7.21616', 'OA': '', 'ASH': '0.03808', 'NA': '0.0', 'K': '10.472000000000001', 'CA': '1.9040000000000001', 'MG': '1.1424', 'P': '5.712000000000001', 'FE': '0.0476', 'ZN': '0.028560000000000002', 'CU': '0.007616', 'MN': '0.040936', 'ID': '0.0', 'SE': '0.3808', 'CR': '0.1904', 'MO': '1.1424', 'RETOL': '0.0', 'CARTA': '', 'CARTB': '', 'CRYPXB': '', 'CARTBEQ': '0.0', 'VITA_RAE': '0.0', 'VITD': '0.0', 'TOCPHA': '0.028560000000000002', 'TOCPHB': '0.01904', 'TOCPHG': '0.0', 'TOCPHD': '0.0', 'VITK ': '0.0', 'THIA': '0.010472', 'RIBF': '0.002856', 'NIA': '0.057120000000000004', 'NE': '0.22848000000000002', 'VITB6A': '0.002856', 'VITB12': '0.0', 'FOL': '0.8568', 'PANTAC': '0.05045600000000001', 'BIOT': '0.11424000000000001', 'VITC': '0.0', 'ALC': '', 'NACL_EQ': '0.0'}\n",
      "{'': '4', 'food_item': '12004', 'Name': '鶏卵\\u3000全卵\\u3000生', 'Ingr_Exp': '卵', 'Ingr': '12004', 'Amnt_Exp': '１個', 'Amnt': '1.0', 'Unit': '無単位', 'Weight': '0.1', 'TMR (g)': '0.63', 'REFUSE': '0.014', 'ENERC': '0.594', 'ENERC_KCAL': '0.14200000000000002', 'WATER': '0.075', 'PROTCAA': '0.011300000000000001', 'PROT-': '0.012199999999999999', 'FATNLEA': '0.009300000000000001', 'CHOLE': '0.37', 'FAT-': '0.010199999999999999', 'CHOAVLM': '0.0003', 'CHOAVL': '0.0003', 'CHOAVLDF-': '0.0034', 'FIB-': '0.0', 'POLYL': '', 'CHOCDF-': '0.0004', 'OA': '', 'ASH': '0.001', 'NA': '0.14', 'K': '0.13', 'CA': '0.046', 'MG': '0.01', 'P': '0.17', 'FE': '0.0015', 'ZN': '0.0011', 'CU': '5e-05', 'MN': '2e-05', 'ID': '0.033', 'SE': '0.024', 'CR': '0.0', 'MO': '0.004', 'RETOL': '0.21', 'CARTA': '0.0', 'CARTB': '0.001', 'CRYPXB': '0.012', 'CARTBEQ': '0.007', 'VITA_RAE': '0.21', 'VITD': '0.0038', 'TOCPHA': '0.0013000000000000002', 'TOCPHB': '0.0', 'TOCPHG': '0.0005', 'TOCPHD': '0.0', 'VITK ': '0.012', 'THIA': '6e-05', 'RIBF': '0.00037', 'NIA': '0.0001', 'NE': '0.0032', 'VITB6A': '8.999999999999999e-05', 'VITB12': '0.0011', 'FOL': '0.049', 'PANTAC': '0.00116', 'BIOT': '0.024', 'VITC': '0.0', 'ALC': '', 'NACL_EQ': '0.0004'}\n",
      "{'': '5', 'food_item': '3003', 'Name': '（砂糖類）\\u3000車糖\\u3000上白糖', 'Ingr_Exp': '砂糖', 'Ingr': '3003', 'Amnt_Exp': '大匙３', 'Amnt': '3.0', 'Unit': '大/大匙', 'Weight': '2.57', 'TMR (g)': '24.16', 'REFUSE': '0.0', 'ENERC': '42.8419', 'ENERC_KCAL': '10.0487', 'WATER': '0.01799', 'PROTCAA': '', 'PROT-': '0.0', 'FATNLEA': '', 'CHOLE': '0.0', 'FAT-': '0.0', 'CHOAVLM': '2.67794', 'CHOAVL': '2.55201', 'CHOAVLDF-': '2.55201', 'FIB-': '0.0', 'POLYL': '', 'CHOCDF-': '2.55201', 'OA': '', 'ASH': '0.0', 'NA': '0.0257', 'K': '0.0514', 'CA': '0.0257', 'MG': '0.0', 'P': '0.0', 'FE': '0.0', 'ZN': '0.0', 'CU': '0.000257', 'MN': '0.0', 'ID': '0.0', 'SE': '0.0', 'CR': '0.0', 'MO': '0.0', 'RETOL': '0.0', 'CARTA': '', 'CARTB': '', 'CRYPXB': '', 'CARTBEQ': '0.0', 'VITA_RAE': '0.0', 'VITD': '0.0', 'TOCPHA': '0.0', 'TOCPHB': '0.0', 'TOCPHG': '0.0', 'TOCPHD': '0.0', 'VITK ': '0.0', 'THIA': '0.0', 'RIBF': '0.0', 'NIA': '0.0', 'NE': '0.0', 'VITB6A': '0.0', 'VITB12': '0.0', 'FOL': '0.0', 'PANTAC': '0.0', 'BIOT': '0.0025700000000000002', 'VITC': '0.0', 'ALC': '', 'NACL_EQ': '0.0'}\n",
      "{'': '6', 'food_item': '13014', 'Name': '＜牛乳及び乳製品＞\\u3000（クリーム類）\\u3000クリーム\\u3000乳脂肪', 'Ingr_Exp': '生クリーム', 'Ingr': '13014', 'Amnt_Exp': '１/２カップ', 'Amnt': '0.5', 'Unit': '杯/カップ', 'Weight': '9.52', 'TMR (g)': '18.56', 'REFUSE': '0.0', 'ENERC': '158.508', 'ENERC_KCAL': '38.460800000000006', 'WATER': '4.588640000000001', 'PROTCAA': '0.15232', 'PROT-': '0.18088', 'FATNLEA': '3.7699200000000004', 'CHOLE': '6.0928', 'FAT-': '4.0936', 'CHOAVLM': '0.27608', 'CHOAVL': '0.25704000000000005', 'CHOAVLDF-': '0.96152', 'FIB-': '0.0', 'POLYL': '', 'CHOCDF-': '0.6188', 'OA': '0.00952', 'ASH': '0.03808', 'NA': '4.0936', 'K': '7.235200000000001', 'CA': '4.6648000000000005', 'MG': '0.47600000000000003', 'P': '7.9968', 'FE': '0.00952', 'ZN': '0.01904', 'CU': '0.001904', 'MN': '', 'ID': '0.7616', 'SE': '0.1904', 'CR': '0.0952', 'MO': '1.3328000000000002', 'RETOL': '14.280000000000001', 'CARTA': '0.0952', 'CARTB': '10.472000000000001', 'CRYPXB': '0.1904', 'CARTBEQ': '10.472000000000001', 'VITA_RAE': '15.232000000000001', 'VITD': '0.028560000000000002', 'TOCPHA': '0.03808', 'TOCPHB': '0.0', 'TOCPHG': '0.0', 'TOCPHD': '0.0', 'VITK ': '1.3328000000000002', 'THIA': '0.001904', 'RIBF': '0.012376000000000002', 'NIA': '0.0', 'NE': '0.03808', 'VITB6A': '0.0', 'VITB12': '0.01904', 'FOL': '0.0', 'PANTAC': '0.012376000000000002', 'BIOT': '0.11424000000000001', 'VITC': '0.0', 'ALC': '', 'NACL_EQ': '0.00952'}\n",
      "{'': '7', 'food_item': '14017', 'Name': '（バター類）\\u3000無発酵バター\\u3000有塩バター', 'Ingr_Exp': 'バター', 'Ingr': '14017', 'Amnt_Exp': '５０ｇ', 'Amnt': '50.0', 'Unit': '無単位', 'Weight': '4.76', 'TMR (g)': '257.99', 'REFUSE': '0.0', 'ENERC': '137.08800000000002', 'ENERC_KCAL': '33.32', 'WATER': '0.77112', 'PROTCAA': '0.0238', 'PROT-': '0.028560000000000002', 'FATNLEA': '3.5462000000000002', 'CHOLE': '9.996', 'FAT-': '3.8556000000000004', 'CHOAVLM': '0.028560000000000002', 'CHOAVL': '0.0238', 'CHOAVLDF-': '0.32368', 'FIB-': '0.0', 'POLYL': '', 'CHOCDF-': '0.00952', 'OA': '', 'ASH': '0.0952', 'NA': '35.7', 'K': '1.3328000000000002', 'CA': '0.7140000000000001', 'MG': '0.0952', 'P': '0.7140000000000001', 'FE': '0.00476', 'ZN': '0.00476', 'CU': '0.0', 'MN': '0.0', 'ID': '0.0952', 'SE': '0.0', 'CR': '0.0476', 'MO': '0.1428', 'RETOL': '23.8', 'CARTA': '0.0952', 'CARTB': '9.044', 'CRYPXB': '0.2856', 'CARTBEQ': '9.044', 'VITA_RAE': '24.752000000000002', 'VITD': '0.028560000000000002', 'TOCPHA': '0.0714', 'TOCPHB': '0.0', 'TOCPHG': '0.00476', 'TOCPHD': '0.0', 'VITK ': '0.8092', 'THIA': '0.000476', 'RIBF': '0.001428', 'NIA': '0.0', 'NE': '0.00476', 'VITB6A': '0.0', 'VITB12': '0.00476', 'FOL': '0.0', 'PANTAC': '0.002856', 'BIOT': '0.01904', 'VITC': '0.0', 'ALC': '', 'NACL_EQ': '0.09044'}\n",
      "{'': '8', 'food_item': '', 'Name': 'OOD', 'Ingr_Exp': 'バニラエッセンス', 'Ingr': '', 'Amnt_Exp': '少々', 'Amnt': '', 'Unit': '', 'Weight': '', 'TMR (g)': '', 'REFUSE': '', 'ENERC': '', 'ENERC_KCAL': '', 'WATER': '', 'PROTCAA': '', 'PROT-': '', 'FATNLEA': '', 'CHOLE': '', 'FAT-': '', 'CHOAVLM': '', 'CHOAVL': '', 'CHOAVLDF-': '', 'FIB-': '', 'POLYL': '', 'CHOCDF-': '', 'OA': '', 'ASH': '', 'NA': '', 'K': '', 'CA': '', 'MG': '', 'P': '', 'FE': '', 'ZN': '', 'CU': '', 'MN': '', 'ID': '', 'SE': '', 'CR': '', 'MO': '', 'RETOL': '', 'CARTA': '', 'CARTB': '', 'CRYPXB': '', 'CARTBEQ': '', 'VITA_RAE': '', 'VITD': '', 'TOCPHA': '', 'TOCPHB': '', 'TOCPHG': '', 'TOCPHD': '', 'VITK ': '', 'THIA': '', 'RIBF': '', 'NIA': '', 'NE': '', 'VITB6A': '', 'VITB12': '', 'FOL': '', 'PANTAC': '', 'BIOT': '', 'VITC': '', 'ALC': '', 'NACL_EQ': ''}\n",
      "{'': '9', 'food_item': '3005', 'Name': '（砂糖類）\\u3000ざらめ糖\\u3000グラニュー糖', 'Ingr_Exp': 'カラメルソース', 'Ingr': '3005', 'Amnt_Exp': '', 'Amnt': '1', 'Unit': '無単位', 'Weight': '0.1', 'TMR (g)': '0.94', 'REFUSE': '0.0', 'ENERC': '1.678', 'ENERC_KCAL': '0.393', 'WATER': '0.0', 'PROTCAA': '', 'PROT-': '0.0', 'FATNLEA': '', 'CHOLE': '0.0', 'FAT-': '0.0', 'CHOAVLM': '0.10490000000000001', 'CHOAVL': '0.0999', 'CHOAVLDF-': '0.1', 'FIB-': '0.0', 'POLYL': '0.0', 'CHOCDF-': '0.1', 'OA': '', 'ASH': '0.0', 'NA': '0.0', 'K': '0.0', 'CA': '0.0', 'MG': '0.0', 'P': '0.0', 'FE': '0.0', 'ZN': '0.0', 'CU': '0.0', 'MN': '0.0', 'ID': '0.0', 'SE': '0.0', 'CR': '0.0', 'MO': '0.0', 'RETOL': '0.0', 'CARTA': '', 'CARTB': '', 'CRYPXB': '', 'CARTBEQ': '0.0', 'VITA_RAE': '0.0', 'VITD': '0.0', 'TOCPHA': '0.0', 'TOCPHB': '0.0', 'TOCPHG': '0.0', 'TOCPHD': '0.0', 'VITK ': '0.0', 'THIA': '0.0', 'RIBF': '0.0', 'NIA': '0.0', 'NE': '0.0', 'VITB6A': '0.0', 'VITB12': '0.0', 'FOL': '0.0', 'PANTAC': '0.0', 'BIOT': '0.0001', 'VITC': '0.0', 'ALC': '', 'NACL_EQ': '0.0'}\n",
      "{'': '10', 'food_item': '3003', 'Name': '（砂糖類）\\u3000車糖\\u3000上白糖', 'Ingr_Exp': '砂糖', 'Ingr': '3003', 'Amnt_Exp': '1/2カップ', 'Amnt': '0.5', 'Unit': '杯/カップ', 'Weight': '5.71', 'TMR (g)': '53.67', 'REFUSE': '0.0', 'ENERC': '95.1857', 'ENERC_KCAL': '22.3261', 'WATER': '0.03997', 'PROTCAA': '', 'PROT-': '0.0', 'FATNLEA': '', 'CHOLE': '0.0', 'FAT-': '0.0', 'CHOAVLM': '5.94982', 'CHOAVL': '5.67003', 'CHOAVLDF-': '5.67003', 'FIB-': '0.0', 'POLYL': '', 'CHOCDF-': '5.67003', 'OA': '', 'ASH': '0.0', 'NA': '0.0571', 'K': '0.1142', 'CA': '0.0571', 'MG': '0.0', 'P': '0.0', 'FE': '0.0', 'ZN': '0.0', 'CU': '0.000571', 'MN': '0.0', 'ID': '0.0', 'SE': '0.0', 'CR': '0.0', 'MO': '0.0', 'RETOL': '0.0', 'CARTA': '', 'CARTB': '', 'CRYPXB': '', 'CARTBEQ': '0.0', 'VITA_RAE': '0.0', 'VITD': '0.0', 'TOCPHA': '0.0', 'TOCPHB': '0.0', 'TOCPHG': '0.0', 'TOCPHD': '0.0', 'VITK ': '0.0', 'THIA': '0.0', 'RIBF': '0.0', 'NIA': '0.0', 'NE': '0.0', 'VITB6A': '0.0', 'VITB12': '0.0', 'FOL': '0.0', 'PANTAC': '0.0', 'BIOT': '0.00571', 'VITC': '0.0', 'ALC': '', 'NACL_EQ': '0.0'}\n",
      "{'': '11', 'food_item': '', 'Name': 'OOD', 'Ingr_Exp': '水', 'Ingr': '', 'Amnt_Exp': '大匙２', 'Amnt': '', 'Unit': '', 'Weight': '', 'TMR (g)': '', 'REFUSE': '', 'ENERC': '', 'ENERC_KCAL': '', 'WATER': '', 'PROTCAA': '', 'PROT-': '', 'FATNLEA': '', 'CHOLE': '', 'FAT-': '', 'CHOAVLM': '', 'CHOAVL': '', 'CHOAVLDF-': '', 'FIB-': '', 'POLYL': '', 'CHOCDF-': '', 'OA': '', 'ASH': '', 'NA': '', 'K': '', 'CA': '', 'MG': '', 'P': '', 'FE': '', 'ZN': '', 'CU': '', 'MN': '', 'ID': '', 'SE': '', 'CR': '', 'MO': '', 'RETOL': '', 'CARTA': '', 'CARTB': '', 'CRYPXB': '', 'CARTBEQ': '', 'VITA_RAE': '', 'VITD': '', 'TOCPHA': '', 'TOCPHB': '', 'TOCPHG': '', 'TOCPHD': '', 'VITK ': '', 'THIA': '', 'RIBF': '', 'NIA': '', 'NE': '', 'VITB6A': '', 'VITB12': '', 'FOL': '', 'PANTAC': '', 'BIOT': '', 'VITC': '', 'ALC': '', 'NACL_EQ': ''}\n"
     ]
    }
   ],
   "source": [
    "import pandas as pd\n",
    "import csv\n",
    "from pathlib import Path\n",
    "\n",
    "path = Path('/home/yamakata/datasets/FoodLog/NII_Cookpad/data/0000/000a0a28c9ea2282a1d1eb1653ceb1335fd56914/nutrient.csv')\n",
    "with open(path,'r') as f:\n",
    "  csv_reader = csv.DictReader(f)\n",
    "  for row in csv_reader:\n",
    "    print(row)"
   ]
  },
  {
   "cell_type": "code",
   "execution_count": 4,
   "metadata": {},
   "outputs": [],
   "source": [
    "df = pd.read_csv(path)"
   ]
  },
  {
   "cell_type": "code",
   "execution_count": 5,
   "metadata": {},
   "outputs": [],
   "source": [
    "df = df[['food_item','Ingr_Exp','ENERC_KCAL','TMR (g)','FAT-','CHOAVLDF-','PROT-']].dropna()"
   ]
  },
  {
   "cell_type": "code",
   "execution_count": 6,
   "metadata": {},
   "outputs": [
    {
     "data": {
      "text/plain": [
       "384.64000000000004"
      ]
     },
     "execution_count": 6,
     "metadata": {},
     "output_type": "execute_result"
    }
   ],
   "source": [
    "df['TMR (g)'].sum()"
   ]
  },
  {
   "cell_type": "code",
   "execution_count": 8,
   "metadata": {},
   "outputs": [
    {
     "name": "stdout",
     "output_type": "stream",
     "text": [
      "2\n",
      "0.1271999999999999\n"
     ]
    }
   ],
   "source": [
    "for row in df.iterrows():\n",
    "    print(len(row))\n",
    "    print(row[1]['ENERC_KCAL'])\n",
    "    break"
   ]
  },
  {
   "cell_type": "code",
   "execution_count": 1,
   "metadata": {},
   "outputs": [
    {
     "name": "stdout",
     "output_type": "stream",
     "text": [
      "unnormalized\n"
     ]
    }
   ],
   "source": [
    "from src.dataset.cookpad_dataset import make_dataset\n",
    "\n",
    "dataset = make_dataset(None,imgs_dir='/srv/datasets/FoodLog/Cookpad+/meal',metadatas_path='/home/yamakata/datasets/FoodLog/NII_Cookpad/data',splits_train_path='splits/cookpad/train.txt',splits_test_path='splits/cookpad/valid.txt',unnormalized_int_tensor=True)"
   ]
  },
  {
   "cell_type": "code",
   "execution_count": 2,
   "metadata": {},
   "outputs": [
    {
     "data": {
      "text/plain": [
       "{'rgb_img': tensor([[[0, 0, 0,  ..., 0, 0, 0],\n",
       "          [0, 0, 0,  ..., 0, 0, 0],\n",
       "          [0, 0, 0,  ..., 0, 0, 0],\n",
       "          ...,\n",
       "          [0, 0, 0,  ..., 0, 0, 0],\n",
       "          [0, 0, 0,  ..., 0, 0, 0],\n",
       "          [0, 0, 0,  ..., 0, 0, 0]],\n",
       " \n",
       "         [[0, 0, 0,  ..., 0, 0, 0],\n",
       "          [0, 0, 0,  ..., 0, 0, 0],\n",
       "          [0, 0, 0,  ..., 0, 0, 0],\n",
       "          ...,\n",
       "          [0, 0, 0,  ..., 0, 0, 0],\n",
       "          [0, 0, 0,  ..., 0, 0, 0],\n",
       "          [0, 0, 0,  ..., 0, 0, 0]],\n",
       " \n",
       "         [[0, 0, 0,  ..., 0, 0, 0],\n",
       "          [0, 0, 0,  ..., 0, 0, 0],\n",
       "          [0, 0, 0,  ..., 0, 0, 0],\n",
       "          ...,\n",
       "          [0, 0, 0,  ..., 0, 0, 0],\n",
       "          [0, 0, 0,  ..., 0, 0, 0],\n",
       "          [0, 0, 0,  ..., 0, 0, 0]]], dtype=torch.uint8),\n",
       " 'depth_img': tensor([[[0, 0, 0,  ..., 0, 0, 0],\n",
       "          [0, 0, 0,  ..., 0, 0, 0],\n",
       "          [0, 0, 0,  ..., 0, 0, 0],\n",
       "          ...,\n",
       "          [0, 0, 0,  ..., 0, 0, 0],\n",
       "          [0, 0, 0,  ..., 0, 0, 0],\n",
       "          [0, 0, 0,  ..., 0, 0, 0]],\n",
       " \n",
       "         [[0, 0, 0,  ..., 0, 0, 0],\n",
       "          [0, 0, 0,  ..., 0, 0, 0],\n",
       "          [0, 0, 0,  ..., 0, 0, 0],\n",
       "          ...,\n",
       "          [0, 0, 0,  ..., 0, 0, 0],\n",
       "          [0, 0, 0,  ..., 0, 0, 0],\n",
       "          [0, 0, 0,  ..., 0, 0, 0]],\n",
       " \n",
       "         [[0, 0, 0,  ..., 0, 0, 0],\n",
       "          [0, 0, 0,  ..., 0, 0, 0],\n",
       "          [0, 0, 0,  ..., 0, 0, 0],\n",
       "          ...,\n",
       "          [0, 0, 0,  ..., 0, 0, 0],\n",
       "          [0, 0, 0,  ..., 0, 0, 0],\n",
       "          [0, 0, 0,  ..., 0, 0, 0]]], dtype=torch.uint8),\n",
       " 'metadata': Metadata(dish_id='0001c75fbafd793a432aadec02d90da13559066f', cal=72.675, mass=219.54999999999998, fat=1.205, carb=7.3955, protein=11.685000000000002, ingrs=[Ingr(id=10311, name='ホタテ刺身用', grams=112.0, cal=52.8, fat=0.7200000000000001, carb=4.4, protein=10.8), Ingr(id=6223, name='にんにくみじん切り', grams=28.5, cal=9.675, fat=0.0675, carb=1.8075, protein=0.48), Ingr(id=17012, name='塩コショウ', grams=0.75, cal=0.0, fat=0.0, carb=0.0, protein=0.0), Ingr(id=14017, name='バターマーガリン可', grams=27.1, cal=3.5, fat=0.405, carb=0.034, protein=0.003), Ingr(id=17007, name='しょう油', grams=1.25, cal=0.385, fat=0.0, carb=0.043, protein=0.0385), Ingr(id=17138, name='酒', grams=2.45, cal=0.44, fat=0.0, carb=0.0235, protein=0.001), Ingr(id=6022, name='スナップエンドウ', grams=47.5, cal=5.875, fat=0.0125, carb=1.0875, protein=0.3625)]),\n",
       " 'rgb_path': '/srv/datasets/FoodLog/Cookpad+/meal/0/0001c75fbafd793a432aadec02d90da13559066f.jpg',\n",
       " 'depth_path': '/srv/datasets/FoodLog/Cookpad+/meal/0/0001c75fbafd793a432aadec02d90da13559066f.jpg'}"
      ]
     },
     "execution_count": 2,
     "metadata": {},
     "output_type": "execute_result"
    }
   ],
   "source": [
    "dataset['train'][0]"
   ]
  },
  {
   "cell_type": "code",
   "execution_count": 3,
   "metadata": {},
   "outputs": [
    {
     "data": {
      "text/plain": [
       "PosixPath('.')"
      ]
     },
     "execution_count": 3,
     "metadata": {},
     "output_type": "execute_result"
    }
   ],
   "source": [
    "dataset['train'].metadatas_path"
   ]
  },
  {
   "cell_type": "code",
   "execution_count": 3,
   "metadata": {},
   "outputs": [],
   "source": [
    "from pathlib import Path\n",
    "metadatas_dict = {}\n",
    "metadatas_path=Path('/home/yamakata/datasets/FoodLog/NII_Cookpad/data')\n",
    "for path in metadatas_path.glob('**/*.csv'):\n",
    "    metadatas_dict[path.parent.stem] = str(path)"
   ]
  },
  {
   "cell_type": "code",
   "execution_count": 4,
   "metadata": {},
   "outputs": [],
   "source": [
    "import json\n",
    "json.dump(metadatas_dict,open('metadata/cookpad/metadatas_path.json','w'))"
   ]
  },
  {
   "cell_type": "code",
   "execution_count": 7,
   "metadata": {},
   "outputs": [],
   "source": [
    "import os\n",
    "img_dir='/srv/datasets/FoodLog/Cookpad+/meal'\n",
    "subdir = [f.path for f in os.scandir(img_dir) if f.is_dir()]\n",
    "metadatas_dict_refined = {}\n",
    "count = 0\n",
    "for dir in subdir:\n",
    "    for path in os.listdir(dir):\n",
    "        if Path(path).stem in metadatas_dict.keys():\n",
    "          metadatas_dict_refined[Path(path).stem] = metadatas_dict[Path(path).stem]\n",
    "json.dump(metadatas_dict_refined,open('metadata/cookpad/metadatas_refined_path.json','w'))"
   ]
  },
  {
   "cell_type": "code",
   "execution_count": 8,
   "metadata": {},
   "outputs": [],
   "source": [
    "metadatas_dict_2 = json.load(open('metadata/cookpad/metadatas_refined_path.json'))"
   ]
  },
  {
   "cell_type": "code",
   "execution_count": 1,
   "metadata": {},
   "outputs": [
    {
     "name": "stderr",
     "output_type": "stream",
     "text": [
      "/home/parinayok/.pyenv/versions/miniconda3-latest/envs/nutrition5k/lib/python3.10/site-packages/tqdm/auto.py:21: TqdmWarning: IProgress not found. Please update jupyter and ipywidgets. See https://ipywidgets.readthedocs.io/en/stable/user_install.html\n",
      "  from .autonotebook import tqdm as notebook_tqdm\n"
     ]
    },
    {
     "data": {
      "text/plain": [
       "tensor(4.8517e+08)"
      ]
     },
     "execution_count": 1,
     "metadata": {},
     "output_type": "execute_result"
    }
   ],
   "source": [
    "import torch\n",
    "torch.exp(torch.tensor(20))"
   ]
  },
  {
   "cell_type": "code",
   "execution_count": 1,
   "metadata": {},
   "outputs": [
    {
     "name": "stderr",
     "output_type": "stream",
     "text": [
      "/home/parinayok/.pyenv/versions/miniconda3-latest/envs/nutrition5k/lib/python3.10/site-packages/tqdm/auto.py:21: TqdmWarning: IProgress not found. Please update jupyter and ipywidgets. See https://ipywidgets.readthedocs.io/en/stable/user_install.html\n",
      "  from .autonotebook import tqdm as notebook_tqdm\n"
     ]
    }
   ],
   "source": [
    "import torch\n",
    "query_shape = [3,4,5]\n",
    "emb_dim = 3\n",
    "hid_dim = emb_dim // 3\n",
    "pos_emb_list = []\n",
    "for i, n_queries in enumerate(query_shape):\n",
    "    emb = torch.ones(n_queries, emb_dim)\n",
    "    start = int(hid_dim * i)\n",
    "    end = int(hid_dim * (i + 1))\n",
    "    emb[:, start:end] = torch.randint_like(emb[:, start:end],100)\n",
    "    pos_emb_list.append(emb)"
   ]
  },
  {
   "cell_type": "code",
   "execution_count": 2,
   "metadata": {},
   "outputs": [
    {
     "data": {
      "text/plain": [
       "[tensor([[35.,  1.,  1.],\n",
       "         [61.,  1.,  1.],\n",
       "         [25.,  1.,  1.]]),\n",
       " tensor([[ 1.,  3.,  1.],\n",
       "         [ 1., 34.,  1.],\n",
       "         [ 1., 53.,  1.],\n",
       "         [ 1., 29.,  1.]]),\n",
       " tensor([[ 1.,  1., 65.],\n",
       "         [ 1.,  1.,  8.],\n",
       "         [ 1.,  1., 81.],\n",
       "         [ 1.,  1., 75.],\n",
       "         [ 1.,  1., 18.]])]"
      ]
     },
     "execution_count": 2,
     "metadata": {},
     "output_type": "execute_result"
    }
   ],
   "source": [
    "pos_emb_list"
   ]
  },
  {
   "cell_type": "code",
   "execution_count": 3,
   "metadata": {},
   "outputs": [
    {
     "data": {
      "text/plain": [
       "tensor([[[[35.,  3., 65.],\n",
       "          [35.,  3.,  8.],\n",
       "          [35.,  3., 81.],\n",
       "          [35.,  3., 75.],\n",
       "          [35.,  3., 18.]],\n",
       "\n",
       "         [[35., 34., 65.],\n",
       "          [35., 34.,  8.],\n",
       "          [35., 34., 81.],\n",
       "          [35., 34., 75.],\n",
       "          [35., 34., 18.]],\n",
       "\n",
       "         [[35., 53., 65.],\n",
       "          [35., 53.,  8.],\n",
       "          [35., 53., 81.],\n",
       "          [35., 53., 75.],\n",
       "          [35., 53., 18.]],\n",
       "\n",
       "         [[35., 29., 65.],\n",
       "          [35., 29.,  8.],\n",
       "          [35., 29., 81.],\n",
       "          [35., 29., 75.],\n",
       "          [35., 29., 18.]]],\n",
       "\n",
       "\n",
       "        [[[61.,  3., 65.],\n",
       "          [61.,  3.,  8.],\n",
       "          [61.,  3., 81.],\n",
       "          [61.,  3., 75.],\n",
       "          [61.,  3., 18.]],\n",
       "\n",
       "         [[61., 34., 65.],\n",
       "          [61., 34.,  8.],\n",
       "          [61., 34., 81.],\n",
       "          [61., 34., 75.],\n",
       "          [61., 34., 18.]],\n",
       "\n",
       "         [[61., 53., 65.],\n",
       "          [61., 53.,  8.],\n",
       "          [61., 53., 81.],\n",
       "          [61., 53., 75.],\n",
       "          [61., 53., 18.]],\n",
       "\n",
       "         [[61., 29., 65.],\n",
       "          [61., 29.,  8.],\n",
       "          [61., 29., 81.],\n",
       "          [61., 29., 75.],\n",
       "          [61., 29., 18.]]],\n",
       "\n",
       "\n",
       "        [[[25.,  3., 65.],\n",
       "          [25.,  3.,  8.],\n",
       "          [25.,  3., 81.],\n",
       "          [25.,  3., 75.],\n",
       "          [25.,  3., 18.]],\n",
       "\n",
       "         [[25., 34., 65.],\n",
       "          [25., 34.,  8.],\n",
       "          [25., 34., 81.],\n",
       "          [25., 34., 75.],\n",
       "          [25., 34., 18.]],\n",
       "\n",
       "         [[25., 53., 65.],\n",
       "          [25., 53.,  8.],\n",
       "          [25., 53., 81.],\n",
       "          [25., 53., 75.],\n",
       "          [25., 53., 18.]],\n",
       "\n",
       "         [[25., 29., 65.],\n",
       "          [25., 29.,  8.],\n",
       "          [25., 29., 81.],\n",
       "          [25., 29., 75.],\n",
       "          [25., 29., 18.]]]])"
      ]
     },
     "execution_count": 3,
     "metadata": {},
     "output_type": "execute_result"
    }
   ],
   "source": [
    "pos_emb = torch.einsum(\"il,jl,kl -> ijkl\", *pos_emb_list)\n",
    "pos_emb"
   ]
  },
  {
   "cell_type": "code",
   "execution_count": null,
   "metadata": {},
   "outputs": [],
   "source": []
  }
 ],
 "metadata": {
  "kernelspec": {
   "display_name": "nutrition5k",
   "language": "python",
   "name": "python3"
  },
  "language_info": {
   "codemirror_mode": {
    "name": "ipython",
    "version": 3
   },
   "file_extension": ".py",
   "mimetype": "text/x-python",
   "name": "python",
   "nbconvert_exporter": "python",
   "pygments_lexer": "ipython3",
   "version": "3.10.11"
  },
  "orig_nbformat": 4
 },
 "nbformat": 4,
 "nbformat_minor": 2
}
